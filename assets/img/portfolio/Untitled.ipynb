{
 "cells": [
  {
   "cell_type": "code",
   "execution_count": 10,
   "id": "027fecc1",
   "metadata": {},
   "outputs": [
    {
     "name": "stdout",
     "output_type": "stream",
     "text": [
      "Image resized successfully to (709, 472)\n"
     ]
    }
   ],
   "source": [
    "from PIL import Image\n",
    "\n",
    "# Open the image\n",
    "#input_image_path = \"C:\\Users\\Rahul Penumadu\\Downloads\\iPortfolio\\iPortfolio\\assets\\img\\portfolio\\IMDB_THUMBBBB.jpeg\"\n",
    "#output_image_path = \"C:\\Users\\Rahul Penumadu\\Downloads\\iPortfolio\\iPortfolio\\assets\\img\\portfolio\\IMDB_THUMBB121212.jpeg\"\n",
    "\n",
    "#input_image_path = \"C:\\Users\\Rahul Penumadu\\Downloads\\iPortfolio\\iPortfolio\\assets\\img\\Term-Deposit.jpg\"\n",
    "input_image_path = \"C:\\\\Users\\\\Rahul Penumadu\\\\Downloads\\\\iPortfolio\\\\iPortfolio\\\\assets\\\\img\\\\Term-Deposit.jpg\"\n",
    "output_image_path = \"C:\\\\Users\\\\Rahul Penumadu\\\\Downloads\\\\iPortfolio\\\\iPortfolio\\\\assets\\\\img\\\\Term-Deposit.jpg\"\n",
    "\n",
    "img = Image.open(input_image_path)\n",
    "\n",
    "# Resize the image\n",
    "new_size = (709, 472)\n",
    "resized_img = img.resize(new_size)\n",
    "\n",
    "# Save the resized image\n",
    "resized_img.save(output_image_path)\n",
    "\n",
    "print(f\"Image resized successfully to {new_size}\")\n"
   ]
  },
  {
   "cell_type": "code",
   "execution_count": null,
   "id": "0d793676",
   "metadata": {},
   "outputs": [],
   "source": []
  }
 ],
 "metadata": {
  "kernelspec": {
   "display_name": "Python 3 (ipykernel)",
   "language": "python",
   "name": "python3"
  },
  "language_info": {
   "codemirror_mode": {
    "name": "ipython",
    "version": 3
   },
   "file_extension": ".py",
   "mimetype": "text/x-python",
   "name": "python",
   "nbconvert_exporter": "python",
   "pygments_lexer": "ipython3",
   "version": "3.9.12"
  }
 },
 "nbformat": 4,
 "nbformat_minor": 5
}
